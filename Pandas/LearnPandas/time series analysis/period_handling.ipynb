{
 "cells": [
  {
   "cell_type": "code",
   "execution_count": 1,
   "id": "ff8aa09f-cb79-4f52-a4c0-230771032c04",
   "metadata": {},
   "outputs": [
    {
     "data": {
      "text/plain": [
       "Period('2017', 'A-DEC')"
      ]
     },
     "execution_count": 1,
     "metadata": {},
     "output_type": "execute_result"
    }
   ],
   "source": [
    "import pandas as pd\n",
    "\n",
    "y = pd.Period('2017')\n",
    "y"
   ]
  },
  {
   "cell_type": "code",
   "execution_count": 2,
   "id": "5cf9fb46-d6a5-41e7-ad48-8bd29732ffbc",
   "metadata": {},
   "outputs": [
    {
     "data": {
      "text/plain": [
       "Timestamp('2017-01-01 00:00:00')"
      ]
     },
     "execution_count": 2,
     "metadata": {},
     "output_type": "execute_result"
    }
   ],
   "source": [
    "y.start_time"
   ]
  },
  {
   "cell_type": "code",
   "execution_count": 3,
   "id": "40f404b8-c0d6-4dda-ae48-c6cf52b6b688",
   "metadata": {},
   "outputs": [
    {
     "data": {
      "text/plain": [
       "Timestamp('2017-12-31 23:59:59.999999999')"
      ]
     },
     "execution_count": 3,
     "metadata": {},
     "output_type": "execute_result"
    }
   ],
   "source": [
    "y.end_time"
   ]
  },
  {
   "cell_type": "code",
   "execution_count": 4,
   "id": "93090c40-fe34-4e31-a7c1-70cee762eac5",
   "metadata": {},
   "outputs": [
    {
     "data": {
      "text/plain": [
       "Period('2016-12', 'M')"
      ]
     },
     "execution_count": 4,
     "metadata": {},
     "output_type": "execute_result"
    }
   ],
   "source": [
    "m = pd.Period('2016-12', 'M')\n",
    "m"
   ]
  },
  {
   "cell_type": "code",
   "execution_count": 5,
   "id": "f9a16c1d-6aba-451a-a610-01691ce81666",
   "metadata": {},
   "outputs": [
    {
     "data": {
      "text/plain": [
       "Timestamp('2016-12-01 00:00:00')"
      ]
     },
     "execution_count": 5,
     "metadata": {},
     "output_type": "execute_result"
    }
   ],
   "source": [
    "m.start_time"
   ]
  },
  {
   "cell_type": "code",
   "execution_count": 6,
   "id": "820a1e6b-a221-407f-ab57-c8152e9ca142",
   "metadata": {},
   "outputs": [
    {
     "data": {
      "text/plain": [
       "Timestamp('2016-12-31 23:59:59.999999999')"
      ]
     },
     "execution_count": 6,
     "metadata": {},
     "output_type": "execute_result"
    }
   ],
   "source": [
    "m.end_time"
   ]
  },
  {
   "cell_type": "code",
   "execution_count": 7,
   "id": "a8f71613-f5d9-4eee-9699-d23f9f4cd616",
   "metadata": {},
   "outputs": [
    {
     "data": {
      "text/plain": [
       "Period('2017-01', 'M')"
      ]
     },
     "execution_count": 7,
     "metadata": {},
     "output_type": "execute_result"
    }
   ],
   "source": [
    "m + 1"
   ]
  },
  {
   "cell_type": "code",
   "execution_count": 8,
   "id": "89ac9a05-239e-41e1-b8ab-ca8935fc00bd",
   "metadata": {},
   "outputs": [
    {
     "data": {
      "text/plain": [
       "Period('2017-03-01', 'D')"
      ]
     },
     "execution_count": 8,
     "metadata": {},
     "output_type": "execute_result"
    }
   ],
   "source": [
    "d = pd.Period('2017-02-28', 'D')\n",
    "d + 1"
   ]
  },
  {
   "cell_type": "code",
   "execution_count": 9,
   "id": "3e728799-f362-4518-a418-d3393e0ff5a3",
   "metadata": {},
   "outputs": [
    {
     "data": {
      "text/plain": [
       "Period('2017-02-28 19:00', 'H')"
      ]
     },
     "execution_count": 9,
     "metadata": {},
     "output_type": "execute_result"
    }
   ],
   "source": [
    "h = pd.Period('2017-02-28 19:01:23', 'H')\n",
    "h"
   ]
  },
  {
   "cell_type": "code",
   "execution_count": 10,
   "id": "da772376-3a06-4d84-b75f-a65a57cae9c0",
   "metadata": {},
   "outputs": [
    {
     "data": {
      "text/plain": [
       "Timestamp('2017-02-28 19:00:00')"
      ]
     },
     "execution_count": 10,
     "metadata": {},
     "output_type": "execute_result"
    }
   ],
   "source": [
    "h.start_time"
   ]
  },
  {
   "cell_type": "code",
   "execution_count": 11,
   "id": "c0b17b50-3d62-453e-9882-cb86fad86a62",
   "metadata": {},
   "outputs": [
    {
     "data": {
      "text/plain": [
       "Timestamp('2017-02-28 19:59:59.999999999')"
      ]
     },
     "execution_count": 11,
     "metadata": {},
     "output_type": "execute_result"
    }
   ],
   "source": [
    "h.end_time"
   ]
  },
  {
   "cell_type": "code",
   "execution_count": 12,
   "id": "5a98b65a-4874-42a1-b9ed-f8964800bdc0",
   "metadata": {},
   "outputs": [
    {
     "data": {
      "text/plain": [
       "Period('2017-02-28 13:00', 'H')"
      ]
     },
     "execution_count": 12,
     "metadata": {},
     "output_type": "execute_result"
    }
   ],
   "source": [
    "h - 6"
   ]
  },
  {
   "cell_type": "code",
   "execution_count": 13,
   "id": "52ff3318-ee06-45f3-942d-078060f6727f",
   "metadata": {},
   "outputs": [
    {
     "data": {
      "text/plain": [
       "Period('2017-03-01 00:00', 'H')"
      ]
     },
     "execution_count": 13,
     "metadata": {},
     "output_type": "execute_result"
    }
   ],
   "source": [
    "h + pd.offsets.Hour(5)"
   ]
  },
  {
   "cell_type": "code",
   "execution_count": 14,
   "id": "9cbb1698-7d1b-4a1c-b5e5-13584fdbff0a",
   "metadata": {},
   "outputs": [
    {
     "data": {
      "text/plain": [
       "Period('2017Q1', 'Q-DEC')"
      ]
     },
     "execution_count": 14,
     "metadata": {},
     "output_type": "execute_result"
    }
   ],
   "source": [
    "q = pd.Period('2017q1')\n",
    "q"
   ]
  },
  {
   "cell_type": "code",
   "execution_count": 15,
   "id": "ffe533b8-1b9e-492a-bbe7-284a13ea24a8",
   "metadata": {},
   "outputs": [
    {
     "data": {
      "text/plain": [
       "Period('2017Q2', 'Q-DEC')"
      ]
     },
     "execution_count": 15,
     "metadata": {},
     "output_type": "execute_result"
    }
   ],
   "source": [
    "1+q"
   ]
  },
  {
   "cell_type": "code",
   "execution_count": 16,
   "id": "818d4473-e3da-42ca-ac93-0f38dd63ffd3",
   "metadata": {},
   "outputs": [
    {
     "data": {
      "text/plain": [
       "Timestamp('2017-03-31 23:59:59.999999999')"
      ]
     },
     "execution_count": 16,
     "metadata": {},
     "output_type": "execute_result"
    }
   ],
   "source": [
    "q.end_time"
   ]
  },
  {
   "cell_type": "code",
   "execution_count": 17,
   "id": "35fc074e-33dd-42e9-b008-d50e080720cf",
   "metadata": {},
   "outputs": [
    {
     "data": {
      "text/plain": [
       "Timestamp('2017-01-01 00:00:00')"
      ]
     },
     "execution_count": 17,
     "metadata": {},
     "output_type": "execute_result"
    }
   ],
   "source": [
    "q.start_time"
   ]
  },
  {
   "cell_type": "code",
   "execution_count": 18,
   "id": "d8ee789b-31aa-411c-9ac1-f04d09a52068",
   "metadata": {},
   "outputs": [
    {
     "data": {
      "text/plain": [
       "Period('2017Q1', 'Q-DEC')"
      ]
     },
     "execution_count": 18,
     "metadata": {},
     "output_type": "execute_result"
    }
   ],
   "source": [
    "q_walmart = pd.Period('2017q1', freq = 'Q-Jan')\n",
    "q # freq change quarterly period"
   ]
  },
  {
   "cell_type": "code",
   "execution_count": 19,
   "id": "abeeb90c-4f39-4b70-ad14-d52c21d97655",
   "metadata": {},
   "outputs": [
    {
     "data": {
      "text/plain": [
       "Timestamp('2016-02-01 00:00:00')"
      ]
     },
     "execution_count": 19,
     "metadata": {},
     "output_type": "execute_result"
    }
   ],
   "source": [
    "q_walmart.start_time"
   ]
  },
  {
   "cell_type": "code",
   "execution_count": 20,
   "id": "cd7d5b48-baf8-4f47-a28e-e9c7a9e4b987",
   "metadata": {},
   "outputs": [
    {
     "data": {
      "text/plain": [
       "Timestamp('2016-04-30 23:59:59.999999999')"
      ]
     },
     "execution_count": 20,
     "metadata": {},
     "output_type": "execute_result"
    }
   ],
   "source": [
    "q_walmart.end_time"
   ]
  },
  {
   "cell_type": "code",
   "execution_count": 21,
   "id": "b5938c9f-2e93-440f-abd4-4a081a5073d5",
   "metadata": {},
   "outputs": [
    {
     "data": {
      "text/plain": [
       "Period('2017-01-01', 'D')"
      ]
     },
     "execution_count": 21,
     "metadata": {},
     "output_type": "execute_result"
    }
   ],
   "source": [
    "q.asfreq('D', how = 'start') #similiar to start_time"
   ]
  },
  {
   "cell_type": "code",
   "execution_count": 22,
   "id": "d6b8bf9d-2b2b-4777-b94e-b4de9906882f",
   "metadata": {},
   "outputs": [
    {
     "data": {
      "text/plain": [
       "Period('2017-03-31', 'D')"
      ]
     },
     "execution_count": 22,
     "metadata": {},
     "output_type": "execute_result"
    }
   ],
   "source": [
    "q.asfreq('D', how = 'end') #similiar to end_time"
   ]
  },
  {
   "cell_type": "code",
   "execution_count": 23,
   "id": "37970239-9312-42cb-81e5-c01dad2872d0",
   "metadata": {},
   "outputs": [
    {
     "data": {
      "text/plain": [
       "Period('2018Q2', 'Q-DEC')"
      ]
     },
     "execution_count": 23,
     "metadata": {},
     "output_type": "execute_result"
    }
   ],
   "source": [
    "q2 = pd.Period('2018q2')\n",
    "q2"
   ]
  },
  {
   "cell_type": "code",
   "execution_count": 24,
   "id": "5bf0141e-56e3-4614-8c1a-757cb7aeaaf0",
   "metadata": {},
   "outputs": [
    {
     "data": {
      "text/plain": [
       "<5 * QuarterEnds: startingMonth=12>"
      ]
     },
     "execution_count": 24,
     "metadata": {},
     "output_type": "execute_result"
    }
   ],
   "source": [
    "q2 - q"
   ]
  },
  {
   "cell_type": "code",
   "execution_count": 25,
   "id": "e4837e7b-8164-43df-8875-0c8e5d0a831b",
   "metadata": {},
   "outputs": [
    {
     "data": {
      "text/plain": [
       "PeriodIndex(['2011Q4', '2012Q1', '2012Q2', '2012Q3', '2012Q4', '2013Q1',\n",
       "             '2013Q2', '2013Q3', '2013Q4', '2014Q1', '2014Q2', '2014Q3',\n",
       "             '2014Q4', '2015Q1', '2015Q2', '2015Q3', '2015Q4', '2016Q1',\n",
       "             '2016Q2', '2016Q3', '2016Q4', '2017Q1', '2017Q2', '2017Q3',\n",
       "             '2017Q4'],\n",
       "            dtype='period[Q-JAN]')"
      ]
     },
     "execution_count": 25,
     "metadata": {},
     "output_type": "execute_result"
    }
   ],
   "source": [
    "idx = pd.period_range('2011', '2017', freq='Q-Jan')\n",
    "idx # 2011 means fiscal 2011 so starts from Q4"
   ]
  },
  {
   "cell_type": "code",
   "execution_count": 26,
   "id": "1838f1f9-59d9-48af-b58e-edd67ee3d7cb",
   "metadata": {},
   "outputs": [
    {
     "data": {
      "text/plain": [
       "Timestamp('2010-11-01 00:00:00')"
      ]
     },
     "execution_count": 26,
     "metadata": {},
     "output_type": "execute_result"
    }
   ],
   "source": [
    "idx[0].start_time"
   ]
  },
  {
   "cell_type": "code",
   "execution_count": 27,
   "id": "c6899ac2-a96e-41ae-bab1-e3b23a269b15",
   "metadata": {},
   "outputs": [
    {
     "data": {
      "text/plain": [
       "Timestamp('2011-01-31 23:59:59.999999999')"
      ]
     },
     "execution_count": 27,
     "metadata": {},
     "output_type": "execute_result"
    }
   ],
   "source": [
    "idx[0].end_time"
   ]
  },
  {
   "cell_type": "code",
   "execution_count": 28,
   "id": "c07bf47f-dfb5-4ca5-affc-12a29b11acb8",
   "metadata": {},
   "outputs": [
    {
     "data": {
      "text/plain": [
       "PeriodIndex(['2011Q4', '2012Q1', '2012Q2', '2012Q3', '2012Q4', '2013Q1',\n",
       "             '2013Q2', '2013Q3', '2013Q4', '2014Q1'],\n",
       "            dtype='period[Q-JAN]')"
      ]
     },
     "execution_count": 28,
     "metadata": {},
     "output_type": "execute_result"
    }
   ],
   "source": [
    "idx = pd.period_range('2011', periods = 10, freq='Q-Jan')\n",
    "idx"
   ]
  },
  {
   "cell_type": "code",
   "execution_count": 29,
   "id": "2be41b49-59b7-4e6c-ae54-ec511947ec93",
   "metadata": {},
   "outputs": [
    {
     "data": {
      "text/plain": [
       "2011Q4   -1.126461\n",
       "2012Q1    2.437674\n",
       "2012Q2    1.388885\n",
       "2012Q3    1.094034\n",
       "2012Q4    1.015450\n",
       "2013Q1    0.496415\n",
       "2013Q2   -0.608079\n",
       "2013Q3    0.729795\n",
       "2013Q4    0.852587\n",
       "2014Q1   -1.815585\n",
       "Freq: Q-JAN, dtype: float64"
      ]
     },
     "execution_count": 29,
     "metadata": {},
     "output_type": "execute_result"
    }
   ],
   "source": [
    "import numpy as np\n",
    "ps = pd.Series(np.random.randn(len(idx)), idx)\n",
    "ps"
   ]
  },
  {
   "cell_type": "code",
   "execution_count": 30,
   "id": "9e62c7ba-e4d3-4da1-8bbc-9ad44196be73",
   "metadata": {},
   "outputs": [
    {
     "data": {
      "text/plain": [
       "PeriodIndex(['2011Q4', '2012Q1', '2012Q2', '2012Q3', '2012Q4', '2013Q1',\n",
       "             '2013Q2', '2013Q3', '2013Q4', '2014Q1'],\n",
       "            dtype='period[Q-JAN]')"
      ]
     },
     "execution_count": 30,
     "metadata": {},
     "output_type": "execute_result"
    }
   ],
   "source": [
    "ps.index"
   ]
  },
  {
   "cell_type": "code",
   "execution_count": 31,
   "id": "70a2ab7c-f4c8-4841-84b9-426c14a54e9c",
   "metadata": {},
   "outputs": [
    {
     "data": {
      "text/plain": [
       "2011Q4   -1.126461\n",
       "2012Q1    2.437674\n",
       "2012Q2    1.388885\n",
       "2012Q3    1.094034\n",
       "2012Q4    1.015450\n",
       "2013Q1    0.496415\n",
       "2013Q2   -0.608079\n",
       "2013Q3    0.729795\n",
       "2013Q4    0.852587\n",
       "Freq: Q-JAN, dtype: float64"
      ]
     },
     "execution_count": 31,
     "metadata": {},
     "output_type": "execute_result"
    }
   ],
   "source": [
    "ps['2011' : '2012']"
   ]
  },
  {
   "cell_type": "code",
   "execution_count": 32,
   "id": "675ab337-8e70-46f1-88c1-107df6e1adeb",
   "metadata": {},
   "outputs": [
    {
     "data": {
      "text/plain": [
       "2010-11-01   -1.126461\n",
       "2011-02-01    2.437674\n",
       "2011-05-01    1.388885\n",
       "2011-08-01    1.094034\n",
       "2011-11-01    1.015450\n",
       "2012-02-01    0.496415\n",
       "2012-05-01   -0.608079\n",
       "2012-08-01    0.729795\n",
       "2012-11-01    0.852587\n",
       "2013-02-01   -1.815585\n",
       "Freq: QS-NOV, dtype: float64"
      ]
     },
     "execution_count": 32,
     "metadata": {},
     "output_type": "execute_result"
    }
   ],
   "source": [
    "pst = ps.to_timestamp()\n",
    "pst"
   ]
  },
  {
   "cell_type": "code",
   "execution_count": 33,
   "id": "4f6f24c7-d9f0-46be-b5ec-735e0f7e4c54",
   "metadata": {},
   "outputs": [
    {
     "data": {
      "text/plain": [
       "DatetimeIndex(['2010-11-01', '2011-02-01', '2011-05-01', '2011-08-01',\n",
       "               '2011-11-01', '2012-02-01', '2012-05-01', '2012-08-01',\n",
       "               '2012-11-01', '2013-02-01'],\n",
       "              dtype='datetime64[ns]', freq='QS-NOV')"
      ]
     },
     "execution_count": 33,
     "metadata": {},
     "output_type": "execute_result"
    }
   ],
   "source": [
    "pst.index"
   ]
  },
  {
   "cell_type": "code",
   "execution_count": 34,
   "id": "45597f07-e3a2-40cd-82ba-0e3b20680f3f",
   "metadata": {},
   "outputs": [
    {
     "data": {
      "text/plain": [
       "<bound method Series.to_period of 2010-11-01   -1.126461\n",
       "2011-02-01    2.437674\n",
       "2011-05-01    1.388885\n",
       "2011-08-01    1.094034\n",
       "2011-11-01    1.015450\n",
       "2012-02-01    0.496415\n",
       "2012-05-01   -0.608079\n",
       "2012-08-01    0.729795\n",
       "2012-11-01    0.852587\n",
       "2013-02-01   -1.815585\n",
       "Freq: QS-NOV, dtype: float64>"
      ]
     },
     "execution_count": 34,
     "metadata": {},
     "output_type": "execute_result"
    }
   ],
   "source": [
    "pst.to_period"
   ]
  },
  {
   "cell_type": "code",
   "execution_count": 35,
   "id": "0a6c280b-3b2a-47a0-9311-28d6ee0f3f23",
   "metadata": {},
   "outputs": [
    {
     "data": {
      "text/html": [
       "<div>\n",
       "<style scoped>\n",
       "    .dataframe tbody tr th:only-of-type {\n",
       "        vertical-align: middle;\n",
       "    }\n",
       "\n",
       "    .dataframe tbody tr th {\n",
       "        vertical-align: top;\n",
       "    }\n",
       "\n",
       "    .dataframe thead th {\n",
       "        text-align: right;\n",
       "    }\n",
       "</style>\n",
       "<table border=\"1\" class=\"dataframe\">\n",
       "  <thead>\n",
       "    <tr style=\"text-align: right;\">\n",
       "      <th></th>\n",
       "      <th>Line Item</th>\n",
       "      <th>2017Q1</th>\n",
       "      <th>2017Q2</th>\n",
       "      <th>2017Q3</th>\n",
       "      <th>2017Q4</th>\n",
       "      <th>2018Q1</th>\n",
       "    </tr>\n",
       "  </thead>\n",
       "  <tbody>\n",
       "    <tr>\n",
       "      <th>0</th>\n",
       "      <td>Revenue</td>\n",
       "      <td>115904</td>\n",
       "      <td>120854</td>\n",
       "      <td>118179</td>\n",
       "      <td>130936</td>\n",
       "      <td>117542</td>\n",
       "    </tr>\n",
       "    <tr>\n",
       "      <th>1</th>\n",
       "      <td>Expenses</td>\n",
       "      <td>86544</td>\n",
       "      <td>89485</td>\n",
       "      <td>87484</td>\n",
       "      <td>97743</td>\n",
       "      <td>87688</td>\n",
       "    </tr>\n",
       "    <tr>\n",
       "      <th>2</th>\n",
       "      <td>Profit</td>\n",
       "      <td>29360</td>\n",
       "      <td>31369</td>\n",
       "      <td>30695</td>\n",
       "      <td>33193</td>\n",
       "      <td>29854</td>\n",
       "    </tr>\n",
       "  </tbody>\n",
       "</table>\n",
       "</div>"
      ],
      "text/plain": [
       "  Line Item  2017Q1  2017Q2  2017Q3  2017Q4  2018Q1\n",
       "0   Revenue  115904  120854  118179  130936  117542\n",
       "1  Expenses   86544   89485   87484   97743   87688\n",
       "2    Profit   29360   31369   30695   33193   29854"
      ]
     },
     "execution_count": 35,
     "metadata": {},
     "output_type": "execute_result"
    }
   ],
   "source": [
    "df = pd.read_csv('wmt.csv')\n",
    "df"
   ]
  },
  {
   "cell_type": "code",
   "execution_count": 36,
   "id": "a251ca93-5b48-4c05-992e-3d5cfcc660df",
   "metadata": {},
   "outputs": [
    {
     "data": {
      "text/html": [
       "<div>\n",
       "<style scoped>\n",
       "    .dataframe tbody tr th:only-of-type {\n",
       "        vertical-align: middle;\n",
       "    }\n",
       "\n",
       "    .dataframe tbody tr th {\n",
       "        vertical-align: top;\n",
       "    }\n",
       "\n",
       "    .dataframe thead th {\n",
       "        text-align: right;\n",
       "    }\n",
       "</style>\n",
       "<table border=\"1\" class=\"dataframe\">\n",
       "  <thead>\n",
       "    <tr style=\"text-align: right;\">\n",
       "      <th>Line Item</th>\n",
       "      <th>Revenue</th>\n",
       "      <th>Expenses</th>\n",
       "      <th>Profit</th>\n",
       "    </tr>\n",
       "  </thead>\n",
       "  <tbody>\n",
       "    <tr>\n",
       "      <th>2017Q1</th>\n",
       "      <td>115904</td>\n",
       "      <td>86544</td>\n",
       "      <td>29360</td>\n",
       "    </tr>\n",
       "    <tr>\n",
       "      <th>2017Q2</th>\n",
       "      <td>120854</td>\n",
       "      <td>89485</td>\n",
       "      <td>31369</td>\n",
       "    </tr>\n",
       "    <tr>\n",
       "      <th>2017Q3</th>\n",
       "      <td>118179</td>\n",
       "      <td>87484</td>\n",
       "      <td>30695</td>\n",
       "    </tr>\n",
       "    <tr>\n",
       "      <th>2017Q4</th>\n",
       "      <td>130936</td>\n",
       "      <td>97743</td>\n",
       "      <td>33193</td>\n",
       "    </tr>\n",
       "    <tr>\n",
       "      <th>2018Q1</th>\n",
       "      <td>117542</td>\n",
       "      <td>87688</td>\n",
       "      <td>29854</td>\n",
       "    </tr>\n",
       "  </tbody>\n",
       "</table>\n",
       "</div>"
      ],
      "text/plain": [
       "Line Item  Revenue  Expenses  Profit\n",
       "2017Q1      115904     86544   29360\n",
       "2017Q2      120854     89485   31369\n",
       "2017Q3      118179     87484   30695\n",
       "2017Q4      130936     97743   33193\n",
       "2018Q1      117542     87688   29854"
      ]
     },
     "execution_count": 36,
     "metadata": {},
     "output_type": "execute_result"
    }
   ],
   "source": [
    "df.set_index('Line Item', inplace = True)\n",
    "df = df.T #Transpose\n",
    "df"
   ]
  },
  {
   "cell_type": "code",
   "execution_count": 37,
   "id": "018ba0e2-5444-4c48-94cb-7e26c0cc4c63",
   "metadata": {},
   "outputs": [],
   "source": [
    "# st = []\n",
    "# et = []\n",
    "# for i in range(len(df.index)):\n",
    "#     t = pd.Period(df.index[i], freq = 'Q-Jan')\n",
    "#     st.append((t.start_time).date())\n",
    "#     et.append((t.end_time).date())\n",
    "# df['Start Date'] = st\n",
    "# df['End Date'] = et\n",
    "# df"
   ]
  },
  {
   "cell_type": "code",
   "execution_count": 38,
   "id": "594faeed-24c4-4d3f-8e29-2ba1f0cc60ac",
   "metadata": {},
   "outputs": [
    {
     "data": {
      "text/html": [
       "<div>\n",
       "<style scoped>\n",
       "    .dataframe tbody tr th:only-of-type {\n",
       "        vertical-align: middle;\n",
       "    }\n",
       "\n",
       "    .dataframe tbody tr th {\n",
       "        vertical-align: top;\n",
       "    }\n",
       "\n",
       "    .dataframe thead th {\n",
       "        text-align: right;\n",
       "    }\n",
       "</style>\n",
       "<table border=\"1\" class=\"dataframe\">\n",
       "  <thead>\n",
       "    <tr style=\"text-align: right;\">\n",
       "      <th>Line Item</th>\n",
       "      <th>Revenue</th>\n",
       "      <th>Expenses</th>\n",
       "      <th>Profit</th>\n",
       "      <th>Start Date</th>\n",
       "      <th>End Date</th>\n",
       "    </tr>\n",
       "  </thead>\n",
       "  <tbody>\n",
       "    <tr>\n",
       "      <th>2017Q1</th>\n",
       "      <td>115904</td>\n",
       "      <td>86544</td>\n",
       "      <td>29360</td>\n",
       "      <td>2016-02-01</td>\n",
       "      <td>2016-04-30</td>\n",
       "    </tr>\n",
       "    <tr>\n",
       "      <th>2017Q2</th>\n",
       "      <td>120854</td>\n",
       "      <td>89485</td>\n",
       "      <td>31369</td>\n",
       "      <td>2016-05-01</td>\n",
       "      <td>2016-07-31</td>\n",
       "    </tr>\n",
       "    <tr>\n",
       "      <th>2017Q3</th>\n",
       "      <td>118179</td>\n",
       "      <td>87484</td>\n",
       "      <td>30695</td>\n",
       "      <td>2016-08-01</td>\n",
       "      <td>2016-10-31</td>\n",
       "    </tr>\n",
       "    <tr>\n",
       "      <th>2017Q4</th>\n",
       "      <td>130936</td>\n",
       "      <td>97743</td>\n",
       "      <td>33193</td>\n",
       "      <td>2016-11-01</td>\n",
       "      <td>2017-01-31</td>\n",
       "    </tr>\n",
       "    <tr>\n",
       "      <th>2018Q1</th>\n",
       "      <td>117542</td>\n",
       "      <td>87688</td>\n",
       "      <td>29854</td>\n",
       "      <td>2017-02-01</td>\n",
       "      <td>2017-04-30</td>\n",
       "    </tr>\n",
       "  </tbody>\n",
       "</table>\n",
       "</div>"
      ],
      "text/plain": [
       "Line Item  Revenue  Expenses  Profit  Start Date    End Date\n",
       "2017Q1      115904     86544   29360  2016-02-01  2016-04-30\n",
       "2017Q2      120854     89485   31369  2016-05-01  2016-07-31\n",
       "2017Q3      118179     87484   30695  2016-08-01  2016-10-31\n",
       "2017Q4      130936     97743   33193  2016-11-01  2017-01-31\n",
       "2018Q1      117542     87688   29854  2017-02-01  2017-04-30"
      ]
     },
     "execution_count": 38,
     "metadata": {},
     "output_type": "execute_result"
    }
   ],
   "source": [
    "df.index = pd.PeriodIndex(df.index, freq = 'Q-JAN')\n",
    "df['Start Date'] = df.index.map(lambda x : x.start_time.date())\n",
    "df['End Date'] = df.index.map(lambda x : x.end_time.date())\n",
    "df"
   ]
  },
  {
   "cell_type": "code",
   "execution_count": null,
   "id": "9fb49aca-4fab-4252-b4fa-cb234311c951",
   "metadata": {},
   "outputs": [],
   "source": []
  }
 ],
 "metadata": {
  "kernelspec": {
   "display_name": "Python 3 (ipykernel)",
   "language": "python",
   "name": "python3"
  },
  "language_info": {
   "codemirror_mode": {
    "name": "ipython",
    "version": 3
   },
   "file_extension": ".py",
   "mimetype": "text/x-python",
   "name": "python",
   "nbconvert_exporter": "python",
   "pygments_lexer": "ipython3",
   "version": "3.10.0"
  }
 },
 "nbformat": 4,
 "nbformat_minor": 5
}
