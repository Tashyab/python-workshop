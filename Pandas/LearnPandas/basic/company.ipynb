{
 "cells": [
  {
   "cell_type": "code",
   "execution_count": null,
   "id": "2a4e8b8e-1d52-4c48-ba8a-ac666e13c2ce",
   "metadata": {},
   "outputs": [],
   "source": [
    "import pandas as pd\n",
    "df1 = pd.read_excel('comp.xlsx', header = None, names = [\"ticker\", \"eps\", \"revenue\", \"price\", \"people\"])\n"
   ]
  },
  {
   "cell_type": "code",
   "execution_count": 2,
   "id": "426c5ebb-cc32-47c0-b3f1-482c475f6df2",
   "metadata": {},
   "outputs": [],
   "source": [
    "df1.to_csv('company.csv', index = False, columns = ['eps', 'revenue'])"
   ]
  },
  {
   "cell_type": "code",
   "execution_count": 3,
   "id": "4542b132-f38f-47df-b228-55904ff6b138",
   "metadata": {},
   "outputs": [],
   "source": [
    "df2 = pd.read_csv(\"weather.csv\")"
   ]
  },
  {
   "cell_type": "code",
   "execution_count": 4,
   "id": "a7fa0524-730a-4bc8-bceb-d5c430c19775",
   "metadata": {},
   "outputs": [],
   "source": [
    "with pd.ExcelWriter('weather_company.xlsx') as writer:\n",
    "    df1.to_excel(writer, sheet_name = 'company', index = False)\n",
    "    df2.to_excel(writer, sheet_name = 'weather', index = False)"
   ]
  },
  {
   "cell_type": "code",
   "execution_count": null,
   "id": "c2086fab-58b2-4294-9fff-95c0a5f8943d",
   "metadata": {},
   "outputs": [],
   "source": []
  }
 ],
 "metadata": {
  "kernelspec": {
   "display_name": "Python 3.10.0 64-bit",
   "language": "python",
   "name": "python3"
  },
  "language_info": {
   "codemirror_mode": {
    "name": "ipython",
    "version": 3
   },
   "file_extension": ".py",
   "mimetype": "text/x-python",
   "name": "python",
   "nbconvert_exporter": "python",
   "pygments_lexer": "ipython3",
   "version": "3.10.0"
  },
  "vscode": {
   "interpreter": {
    "hash": "e14999c12b95e257f02a57294479b128d4b5e2b5e49d8ca9657109fbb2eb6203"
   }
  }
 },
 "nbformat": 4,
 "nbformat_minor": 5
}
