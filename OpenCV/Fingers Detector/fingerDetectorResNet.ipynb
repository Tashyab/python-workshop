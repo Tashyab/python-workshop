{
  "nbformat": 4,
  "nbformat_minor": 0,
  "metadata": {
    "colab": {
      "provenance": [],
      "gpuType": "T4"
    },
    "kernelspec": {
      "name": "python3",
      "display_name": "Python 3"
    },
    "language_info": {
      "name": "python"
    },
    "accelerator": "GPU"
  },
  "cells": [
    {
      "cell_type": "markdown",
      "source": [
        "Importing the libraries"
      ],
      "metadata": {
        "id": "zznXxvnef9ci"
      }
    },
    {
      "cell_type": "code",
      "source": [
        "import numpy as np\n",
        "import pandas as pd\n",
        "import h5py\n",
        "import matplotlib.pyplot as plt\n",
        "from keras import layers"
      ],
      "metadata": {
        "id": "rzS1IzGhf_bo"
      },
      "execution_count": null,
      "outputs": []
    },
    {
      "cell_type": "code",
      "source": [
        "from keras.layers import Conv2D, MaxPooling2D, ReLU, Activation, Add, Dense, BatchNormalization, ZeroPadding2D, Input, Flatten, AveragePooling2D, MaxPooling2D\n",
        "from keras.initializers import random_uniform, glorot_uniform, constant, identity\n",
        "\n",
        "def identity_block(X, f, filters, training = False, initializer = random_uniform):\n",
        "  F1, F2, F3 = filters\n",
        "\n",
        "  X_shortcut = X\n",
        "  cache = []\n",
        "\n",
        "  # First Component of main path\n",
        "  X = Conv2D(F1, (1, 1), strides = (1, 1), padding = \"valid\", kernel_initializer=initializer(seed = 0))(X)\n",
        "  X = BatchNormalization(axis = 3)(X, training = training)\n",
        "  X = Activation('relu')(X)\n",
        "\n",
        "  # Second Component of main path\n",
        "  X = Conv2D(F2, (f, f), strides = (1, 1), padding = 'same', kernel_initializer=initializer(seed = 0))(X)\n",
        "  X = BatchNormalization(axis = 3)(X, training = training)\n",
        "  X = Activation('relu')(X)\n",
        "\n",
        "  # Third Component of main path\n",
        "  X = Conv2D(F3, (1, 1), strides = (1, 1), padding = \"valid\", kernel_initializer=initializer(seed = 0))(X)\n",
        "  X = BatchNormalization(axis = 3)(X, training = training)\n",
        "\n",
        "  # Skip Component\n",
        "  X = Add()([X_shortcut, X])\n",
        "  X = Activation('relu')(X)\n",
        "\n",
        "  return X"
      ],
      "metadata": {
        "id": "wQpz_TUwgS36"
      },
      "execution_count": null,
      "outputs": []
    },
    {
      "cell_type": "code",
      "source": [
        "def convolution_block(X, f, filters, s = 2, training = True, initializer = glorot_uniform):\n",
        "  F1, F2, F3 = filters\n",
        "  X_shortcut = X\n",
        "  cache = []\n",
        "\n",
        "  # First component of main path\n",
        "  X = Conv2D(F1, (1, 1), padding = \"valid\", strides = (s, s), kernel_initializer = initializer(seed = 0))(X)\n",
        "  X = BatchNormalization(axis = 3)(X, training = training)\n",
        "  X = Activation('relu')(X)\n",
        "\n",
        "  # Second component of main path\n",
        "  X = Conv2D(F2, (f, f), padding = \"same\", strides = (1, 1), kernel_initializer = initializer(seed = 0))(X)\n",
        "  X = BatchNormalization(axis = 3)(X, training = training)\n",
        "  X = Activation('relu')(X)\n",
        "\n",
        "  # Third component of main path\n",
        "  X = Conv2D(F3, (1, 1), padding = \"valid\", strides = (1, 1), kernel_initializer = initializer(seed = 0))(X)\n",
        "  X = BatchNormalization(axis = 3)(X, training = training)\n",
        "\n",
        "  # Skip component path\n",
        "  X_shortcut = Conv2D(F3, (1, 1), padding = \"valid\", strides = (s, s), kernel_initializer = initializer(seed = 0))(X_shortcut)\n",
        "  X_shortcut = BatchNormalization(axis = 3)(X_shortcut, training = training)\n",
        "\n",
        "  # Skip component\n",
        "  X = Add()([X_shortcut, X])\n",
        "  X = Activation('relu')(X)\n",
        "\n",
        "  return X"
      ],
      "metadata": {
        "id": "Mp1JPkqfi5nW"
      },
      "execution_count": null,
      "outputs": []
    },
    {
      "cell_type": "code",
      "source": [
        "from keras.models import Model, load_model\n",
        "def resnet50(input_shape = (64, 64, 3), classes = 6):\n",
        "  # Input layer\n",
        "  X_input = Input(input_shape)\n",
        "\n",
        "  # Stage 0\n",
        "  X = ZeroPadding2D((3, 3))(X_input)\n",
        "\n",
        "  # Stage 1\n",
        "  X = Conv2D(64, (7,7), strides = (2, 2), kernel_initializer=glorot_uniform(seed = 0))(X)\n",
        "  X = BatchNormalization(axis = 3)(X)\n",
        "  X = Activation('relu')(X)\n",
        "  X = MaxPooling2D((3, 3), strides = (2, 2))(X)\n",
        "\n",
        "  # Stage 2\n",
        "  X = convolution_block(X, f = 3, filters = (64, 64, 256), s = 1)\n",
        "  for i in range(2):\n",
        "    X = identity_block(X , 3, (64, 64, 256))\n",
        "\n",
        "  # Stage 3\n",
        "  X = convolution_block(X, f = 3, filters = (128, 128, 512), s = 2)\n",
        "  for i in range(3):\n",
        "    X = identity_block(X, f = 3, filters = (128, 128, 512))\n",
        "\n",
        "  # Stage 4\n",
        "  X = convolution_block(X, f = 3, filters = (256, 256, 1024), s = 2)\n",
        "  for i in range(5):\n",
        "    X = identity_block(X, f = 3, filters = (256, 256, 1024))\n",
        "\n",
        "  # Stage 5\n",
        "  X = convolution_block(X, f = 3, filters = (512, 512, 2048), s = 2)\n",
        "  for i in range(2):\n",
        "    X = identity_block(X, f = 3, filters = (512, 512, 2048))\n",
        "\n",
        "  # Final Stage\n",
        "  X = AveragePooling2D((2, 2))(X)\n",
        "  X = Flatten()(X)\n",
        "\n",
        "  # Output layer\n",
        "  X = Dense(units = classes, activation = 'softmax', kernel_initializer = glorot_uniform(seed = 0))(X)\n",
        "\n",
        "  model = Model(inputs = X_input, outputs = X)\n",
        "  return model"
      ],
      "metadata": {
        "id": "aGnmPQIl6d7P"
      },
      "execution_count": null,
      "outputs": []
    },
    {
      "cell_type": "code",
      "source": [
        "model = resnet50(input_shape = (64, 64, 3), classes = 6)\n",
        "model.summary()"
      ],
      "metadata": {
        "colab": {
          "base_uri": "https://localhost:8080/"
        },
        "id": "lrhYs-JhFbH_",
        "outputId": "dd10268b-297a-4894-eca4-37be3bdeb34e"
      },
      "execution_count": null,
      "outputs": [
        {
          "output_type": "stream",
          "name": "stdout",
          "text": [
            "Model: \"model\"\n",
            "__________________________________________________________________________________________________\n",
            " Layer (type)                Output Shape                 Param #   Connected to                  \n",
            "==================================================================================================\n",
            " input_1 (InputLayer)        [(None, 64, 64, 3)]          0         []                            \n",
            "                                                                                                  \n",
            " zero_padding2d (ZeroPaddin  (None, 70, 70, 3)            0         ['input_1[0][0]']             \n",
            " g2D)                                                                                             \n",
            "                                                                                                  \n",
            " conv2d (Conv2D)             (None, 32, 32, 64)           9472      ['zero_padding2d[0][0]']      \n",
            "                                                                                                  \n",
            " batch_normalization (Batch  (None, 32, 32, 64)           256       ['conv2d[0][0]']              \n",
            " Normalization)                                                                                   \n",
            "                                                                                                  \n",
            " activation (Activation)     (None, 32, 32, 64)           0         ['batch_normalization[0][0]'] \n",
            "                                                                                                  \n",
            " max_pooling2d (MaxPooling2  (None, 15, 15, 64)           0         ['activation[0][0]']          \n",
            " D)                                                                                               \n",
            "                                                                                                  \n",
            " conv2d_1 (Conv2D)           (None, 15, 15, 64)           4160      ['max_pooling2d[0][0]']       \n",
            "                                                                                                  \n",
            " batch_normalization_1 (Bat  (None, 15, 15, 64)           256       ['conv2d_1[0][0]']            \n",
            " chNormalization)                                                                                 \n",
            "                                                                                                  \n",
            " activation_1 (Activation)   (None, 15, 15, 64)           0         ['batch_normalization_1[0][0]'\n",
            "                                                                    ]                             \n",
            "                                                                                                  \n",
            " conv2d_2 (Conv2D)           (None, 15, 15, 64)           36928     ['activation_1[0][0]']        \n",
            "                                                                                                  \n",
            " batch_normalization_2 (Bat  (None, 15, 15, 64)           256       ['conv2d_2[0][0]']            \n",
            " chNormalization)                                                                                 \n",
            "                                                                                                  \n",
            " activation_2 (Activation)   (None, 15, 15, 64)           0         ['batch_normalization_2[0][0]'\n",
            "                                                                    ]                             \n",
            "                                                                                                  \n",
            " conv2d_4 (Conv2D)           (None, 15, 15, 256)          16640     ['max_pooling2d[0][0]']       \n",
            "                                                                                                  \n",
            " conv2d_3 (Conv2D)           (None, 15, 15, 256)          16640     ['activation_2[0][0]']        \n",
            "                                                                                                  \n",
            " batch_normalization_4 (Bat  (None, 15, 15, 256)          1024      ['conv2d_4[0][0]']            \n",
            " chNormalization)                                                                                 \n",
            "                                                                                                  \n",
            " batch_normalization_3 (Bat  (None, 15, 15, 256)          1024      ['conv2d_3[0][0]']            \n",
            " chNormalization)                                                                                 \n",
            "                                                                                                  \n",
            " add (Add)                   (None, 15, 15, 256)          0         ['batch_normalization_4[0][0]'\n",
            "                                                                    , 'batch_normalization_3[0][0]\n",
            "                                                                    ']                            \n",
            "                                                                                                  \n",
            " activation_3 (Activation)   (None, 15, 15, 256)          0         ['add[0][0]']                 \n",
            "                                                                                                  \n",
            " conv2d_5 (Conv2D)           (None, 15, 15, 64)           16448     ['activation_3[0][0]']        \n",
            "                                                                                                  \n",
            " batch_normalization_5 (Bat  (None, 15, 15, 64)           256       ['conv2d_5[0][0]']            \n",
            " chNormalization)                                                                                 \n",
            "                                                                                                  \n",
            " activation_4 (Activation)   (None, 15, 15, 64)           0         ['batch_normalization_5[0][0]'\n",
            "                                                                    ]                             \n",
            "                                                                                                  \n",
            " conv2d_6 (Conv2D)           (None, 15, 15, 64)           36928     ['activation_4[0][0]']        \n",
            "                                                                                                  \n",
            " batch_normalization_6 (Bat  (None, 15, 15, 64)           256       ['conv2d_6[0][0]']            \n",
            " chNormalization)                                                                                 \n",
            "                                                                                                  \n",
            " activation_5 (Activation)   (None, 15, 15, 64)           0         ['batch_normalization_6[0][0]'\n",
            "                                                                    ]                             \n",
            "                                                                                                  \n",
            " conv2d_7 (Conv2D)           (None, 15, 15, 256)          16640     ['activation_5[0][0]']        \n",
            "                                                                                                  \n",
            " batch_normalization_7 (Bat  (None, 15, 15, 256)          1024      ['conv2d_7[0][0]']            \n",
            " chNormalization)                                                                                 \n",
            "                                                                                                  \n",
            " add_1 (Add)                 (None, 15, 15, 256)          0         ['activation_3[0][0]',        \n",
            "                                                                     'batch_normalization_7[0][0]'\n",
            "                                                                    ]                             \n",
            "                                                                                                  \n",
            " activation_6 (Activation)   (None, 15, 15, 256)          0         ['add_1[0][0]']               \n",
            "                                                                                                  \n",
            " conv2d_8 (Conv2D)           (None, 15, 15, 64)           16448     ['activation_6[0][0]']        \n",
            "                                                                                                  \n",
            " batch_normalization_8 (Bat  (None, 15, 15, 64)           256       ['conv2d_8[0][0]']            \n",
            " chNormalization)                                                                                 \n",
            "                                                                                                  \n",
            " activation_7 (Activation)   (None, 15, 15, 64)           0         ['batch_normalization_8[0][0]'\n",
            "                                                                    ]                             \n",
            "                                                                                                  \n",
            " conv2d_9 (Conv2D)           (None, 15, 15, 64)           36928     ['activation_7[0][0]']        \n",
            "                                                                                                  \n",
            " batch_normalization_9 (Bat  (None, 15, 15, 64)           256       ['conv2d_9[0][0]']            \n",
            " chNormalization)                                                                                 \n",
            "                                                                                                  \n",
            " activation_8 (Activation)   (None, 15, 15, 64)           0         ['batch_normalization_9[0][0]'\n",
            "                                                                    ]                             \n",
            "                                                                                                  \n",
            " conv2d_10 (Conv2D)          (None, 15, 15, 256)          16640     ['activation_8[0][0]']        \n",
            "                                                                                                  \n",
            " batch_normalization_10 (Ba  (None, 15, 15, 256)          1024      ['conv2d_10[0][0]']           \n",
            " tchNormalization)                                                                                \n",
            "                                                                                                  \n",
            " add_2 (Add)                 (None, 15, 15, 256)          0         ['activation_6[0][0]',        \n",
            "                                                                     'batch_normalization_10[0][0]\n",
            "                                                                    ']                            \n",
            "                                                                                                  \n",
            " activation_9 (Activation)   (None, 15, 15, 256)          0         ['add_2[0][0]']               \n",
            "                                                                                                  \n",
            " conv2d_11 (Conv2D)          (None, 8, 8, 128)            32896     ['activation_9[0][0]']        \n",
            "                                                                                                  \n",
            " batch_normalization_11 (Ba  (None, 8, 8, 128)            512       ['conv2d_11[0][0]']           \n",
            " tchNormalization)                                                                                \n",
            "                                                                                                  \n",
            " activation_10 (Activation)  (None, 8, 8, 128)            0         ['batch_normalization_11[0][0]\n",
            "                                                                    ']                            \n",
            "                                                                                                  \n",
            " conv2d_12 (Conv2D)          (None, 8, 8, 128)            147584    ['activation_10[0][0]']       \n",
            "                                                                                                  \n",
            " batch_normalization_12 (Ba  (None, 8, 8, 128)            512       ['conv2d_12[0][0]']           \n",
            " tchNormalization)                                                                                \n",
            "                                                                                                  \n",
            " activation_11 (Activation)  (None, 8, 8, 128)            0         ['batch_normalization_12[0][0]\n",
            "                                                                    ']                            \n",
            "                                                                                                  \n",
            " conv2d_14 (Conv2D)          (None, 8, 8, 512)            131584    ['activation_9[0][0]']        \n",
            "                                                                                                  \n",
            " conv2d_13 (Conv2D)          (None, 8, 8, 512)            66048     ['activation_11[0][0]']       \n",
            "                                                                                                  \n",
            " batch_normalization_14 (Ba  (None, 8, 8, 512)            2048      ['conv2d_14[0][0]']           \n",
            " tchNormalization)                                                                                \n",
            "                                                                                                  \n",
            " batch_normalization_13 (Ba  (None, 8, 8, 512)            2048      ['conv2d_13[0][0]']           \n",
            " tchNormalization)                                                                                \n",
            "                                                                                                  \n",
            " add_3 (Add)                 (None, 8, 8, 512)            0         ['batch_normalization_14[0][0]\n",
            "                                                                    ',                            \n",
            "                                                                     'batch_normalization_13[0][0]\n",
            "                                                                    ']                            \n",
            "                                                                                                  \n",
            " activation_12 (Activation)  (None, 8, 8, 512)            0         ['add_3[0][0]']               \n",
            "                                                                                                  \n",
            " conv2d_15 (Conv2D)          (None, 8, 8, 128)            65664     ['activation_12[0][0]']       \n",
            "                                                                                                  \n",
            " batch_normalization_15 (Ba  (None, 8, 8, 128)            512       ['conv2d_15[0][0]']           \n",
            " tchNormalization)                                                                                \n",
            "                                                                                                  \n",
            " activation_13 (Activation)  (None, 8, 8, 128)            0         ['batch_normalization_15[0][0]\n",
            "                                                                    ']                            \n",
            "                                                                                                  \n",
            " conv2d_16 (Conv2D)          (None, 8, 8, 128)            147584    ['activation_13[0][0]']       \n",
            "                                                                                                  \n",
            " batch_normalization_16 (Ba  (None, 8, 8, 128)            512       ['conv2d_16[0][0]']           \n",
            " tchNormalization)                                                                                \n",
            "                                                                                                  \n",
            " activation_14 (Activation)  (None, 8, 8, 128)            0         ['batch_normalization_16[0][0]\n",
            "                                                                    ']                            \n",
            "                                                                                                  \n",
            " conv2d_17 (Conv2D)          (None, 8, 8, 512)            66048     ['activation_14[0][0]']       \n",
            "                                                                                                  \n",
            " batch_normalization_17 (Ba  (None, 8, 8, 512)            2048      ['conv2d_17[0][0]']           \n",
            " tchNormalization)                                                                                \n",
            "                                                                                                  \n",
            " add_4 (Add)                 (None, 8, 8, 512)            0         ['activation_12[0][0]',       \n",
            "                                                                     'batch_normalization_17[0][0]\n",
            "                                                                    ']                            \n",
            "                                                                                                  \n",
            " activation_15 (Activation)  (None, 8, 8, 512)            0         ['add_4[0][0]']               \n",
            "                                                                                                  \n",
            " conv2d_18 (Conv2D)          (None, 8, 8, 128)            65664     ['activation_15[0][0]']       \n",
            "                                                                                                  \n",
            " batch_normalization_18 (Ba  (None, 8, 8, 128)            512       ['conv2d_18[0][0]']           \n",
            " tchNormalization)                                                                                \n",
            "                                                                                                  \n",
            " activation_16 (Activation)  (None, 8, 8, 128)            0         ['batch_normalization_18[0][0]\n",
            "                                                                    ']                            \n",
            "                                                                                                  \n",
            " conv2d_19 (Conv2D)          (None, 8, 8, 128)            147584    ['activation_16[0][0]']       \n",
            "                                                                                                  \n",
            " batch_normalization_19 (Ba  (None, 8, 8, 128)            512       ['conv2d_19[0][0]']           \n",
            " tchNormalization)                                                                                \n",
            "                                                                                                  \n",
            " activation_17 (Activation)  (None, 8, 8, 128)            0         ['batch_normalization_19[0][0]\n",
            "                                                                    ']                            \n",
            "                                                                                                  \n",
            " conv2d_20 (Conv2D)          (None, 8, 8, 512)            66048     ['activation_17[0][0]']       \n",
            "                                                                                                  \n",
            " batch_normalization_20 (Ba  (None, 8, 8, 512)            2048      ['conv2d_20[0][0]']           \n",
            " tchNormalization)                                                                                \n",
            "                                                                                                  \n",
            " add_5 (Add)                 (None, 8, 8, 512)            0         ['activation_15[0][0]',       \n",
            "                                                                     'batch_normalization_20[0][0]\n",
            "                                                                    ']                            \n",
            "                                                                                                  \n",
            " activation_18 (Activation)  (None, 8, 8, 512)            0         ['add_5[0][0]']               \n",
            "                                                                                                  \n",
            " conv2d_21 (Conv2D)          (None, 8, 8, 128)            65664     ['activation_18[0][0]']       \n",
            "                                                                                                  \n",
            " batch_normalization_21 (Ba  (None, 8, 8, 128)            512       ['conv2d_21[0][0]']           \n",
            " tchNormalization)                                                                                \n",
            "                                                                                                  \n",
            " activation_19 (Activation)  (None, 8, 8, 128)            0         ['batch_normalization_21[0][0]\n",
            "                                                                    ']                            \n",
            "                                                                                                  \n",
            " conv2d_22 (Conv2D)          (None, 8, 8, 128)            147584    ['activation_19[0][0]']       \n",
            "                                                                                                  \n",
            " batch_normalization_22 (Ba  (None, 8, 8, 128)            512       ['conv2d_22[0][0]']           \n",
            " tchNormalization)                                                                                \n",
            "                                                                                                  \n",
            " activation_20 (Activation)  (None, 8, 8, 128)            0         ['batch_normalization_22[0][0]\n",
            "                                                                    ']                            \n",
            "                                                                                                  \n",
            " conv2d_23 (Conv2D)          (None, 8, 8, 512)            66048     ['activation_20[0][0]']       \n",
            "                                                                                                  \n",
            " batch_normalization_23 (Ba  (None, 8, 8, 512)            2048      ['conv2d_23[0][0]']           \n",
            " tchNormalization)                                                                                \n",
            "                                                                                                  \n",
            " add_6 (Add)                 (None, 8, 8, 512)            0         ['activation_18[0][0]',       \n",
            "                                                                     'batch_normalization_23[0][0]\n",
            "                                                                    ']                            \n",
            "                                                                                                  \n",
            " activation_21 (Activation)  (None, 8, 8, 512)            0         ['add_6[0][0]']               \n",
            "                                                                                                  \n",
            " conv2d_24 (Conv2D)          (None, 4, 4, 256)            131328    ['activation_21[0][0]']       \n",
            "                                                                                                  \n",
            " batch_normalization_24 (Ba  (None, 4, 4, 256)            1024      ['conv2d_24[0][0]']           \n",
            " tchNormalization)                                                                                \n",
            "                                                                                                  \n",
            " activation_22 (Activation)  (None, 4, 4, 256)            0         ['batch_normalization_24[0][0]\n",
            "                                                                    ']                            \n",
            "                                                                                                  \n",
            " conv2d_25 (Conv2D)          (None, 4, 4, 256)            590080    ['activation_22[0][0]']       \n",
            "                                                                                                  \n",
            " batch_normalization_25 (Ba  (None, 4, 4, 256)            1024      ['conv2d_25[0][0]']           \n",
            " tchNormalization)                                                                                \n",
            "                                                                                                  \n",
            " activation_23 (Activation)  (None, 4, 4, 256)            0         ['batch_normalization_25[0][0]\n",
            "                                                                    ']                            \n",
            "                                                                                                  \n",
            " conv2d_27 (Conv2D)          (None, 4, 4, 1024)           525312    ['activation_21[0][0]']       \n",
            "                                                                                                  \n",
            " conv2d_26 (Conv2D)          (None, 4, 4, 1024)           263168    ['activation_23[0][0]']       \n",
            "                                                                                                  \n",
            " batch_normalization_27 (Ba  (None, 4, 4, 1024)           4096      ['conv2d_27[0][0]']           \n",
            " tchNormalization)                                                                                \n",
            "                                                                                                  \n",
            " batch_normalization_26 (Ba  (None, 4, 4, 1024)           4096      ['conv2d_26[0][0]']           \n",
            " tchNormalization)                                                                                \n",
            "                                                                                                  \n",
            " add_7 (Add)                 (None, 4, 4, 1024)           0         ['batch_normalization_27[0][0]\n",
            "                                                                    ',                            \n",
            "                                                                     'batch_normalization_26[0][0]\n",
            "                                                                    ']                            \n",
            "                                                                                                  \n",
            " activation_24 (Activation)  (None, 4, 4, 1024)           0         ['add_7[0][0]']               \n",
            "                                                                                                  \n",
            " conv2d_28 (Conv2D)          (None, 4, 4, 256)            262400    ['activation_24[0][0]']       \n",
            "                                                                                                  \n",
            " batch_normalization_28 (Ba  (None, 4, 4, 256)            1024      ['conv2d_28[0][0]']           \n",
            " tchNormalization)                                                                                \n",
            "                                                                                                  \n",
            " activation_25 (Activation)  (None, 4, 4, 256)            0         ['batch_normalization_28[0][0]\n",
            "                                                                    ']                            \n",
            "                                                                                                  \n",
            " conv2d_29 (Conv2D)          (None, 4, 4, 256)            590080    ['activation_25[0][0]']       \n",
            "                                                                                                  \n",
            " batch_normalization_29 (Ba  (None, 4, 4, 256)            1024      ['conv2d_29[0][0]']           \n",
            " tchNormalization)                                                                                \n",
            "                                                                                                  \n",
            " activation_26 (Activation)  (None, 4, 4, 256)            0         ['batch_normalization_29[0][0]\n",
            "                                                                    ']                            \n",
            "                                                                                                  \n",
            " conv2d_30 (Conv2D)          (None, 4, 4, 1024)           263168    ['activation_26[0][0]']       \n",
            "                                                                                                  \n",
            " batch_normalization_30 (Ba  (None, 4, 4, 1024)           4096      ['conv2d_30[0][0]']           \n",
            " tchNormalization)                                                                                \n",
            "                                                                                                  \n",
            " add_8 (Add)                 (None, 4, 4, 1024)           0         ['activation_24[0][0]',       \n",
            "                                                                     'batch_normalization_30[0][0]\n",
            "                                                                    ']                            \n",
            "                                                                                                  \n",
            " activation_27 (Activation)  (None, 4, 4, 1024)           0         ['add_8[0][0]']               \n",
            "                                                                                                  \n",
            " conv2d_31 (Conv2D)          (None, 4, 4, 256)            262400    ['activation_27[0][0]']       \n",
            "                                                                                                  \n",
            " batch_normalization_31 (Ba  (None, 4, 4, 256)            1024      ['conv2d_31[0][0]']           \n",
            " tchNormalization)                                                                                \n",
            "                                                                                                  \n",
            " activation_28 (Activation)  (None, 4, 4, 256)            0         ['batch_normalization_31[0][0]\n",
            "                                                                    ']                            \n",
            "                                                                                                  \n",
            " conv2d_32 (Conv2D)          (None, 4, 4, 256)            590080    ['activation_28[0][0]']       \n",
            "                                                                                                  \n",
            " batch_normalization_32 (Ba  (None, 4, 4, 256)            1024      ['conv2d_32[0][0]']           \n",
            " tchNormalization)                                                                                \n",
            "                                                                                                  \n",
            " activation_29 (Activation)  (None, 4, 4, 256)            0         ['batch_normalization_32[0][0]\n",
            "                                                                    ']                            \n",
            "                                                                                                  \n",
            " conv2d_33 (Conv2D)          (None, 4, 4, 1024)           263168    ['activation_29[0][0]']       \n",
            "                                                                                                  \n",
            " batch_normalization_33 (Ba  (None, 4, 4, 1024)           4096      ['conv2d_33[0][0]']           \n",
            " tchNormalization)                                                                                \n",
            "                                                                                                  \n",
            " add_9 (Add)                 (None, 4, 4, 1024)           0         ['activation_27[0][0]',       \n",
            "                                                                     'batch_normalization_33[0][0]\n",
            "                                                                    ']                            \n",
            "                                                                                                  \n",
            " activation_30 (Activation)  (None, 4, 4, 1024)           0         ['add_9[0][0]']               \n",
            "                                                                                                  \n",
            " conv2d_34 (Conv2D)          (None, 4, 4, 256)            262400    ['activation_30[0][0]']       \n",
            "                                                                                                  \n",
            " batch_normalization_34 (Ba  (None, 4, 4, 256)            1024      ['conv2d_34[0][0]']           \n",
            " tchNormalization)                                                                                \n",
            "                                                                                                  \n",
            " activation_31 (Activation)  (None, 4, 4, 256)            0         ['batch_normalization_34[0][0]\n",
            "                                                                    ']                            \n",
            "                                                                                                  \n",
            " conv2d_35 (Conv2D)          (None, 4, 4, 256)            590080    ['activation_31[0][0]']       \n",
            "                                                                                                  \n",
            " batch_normalization_35 (Ba  (None, 4, 4, 256)            1024      ['conv2d_35[0][0]']           \n",
            " tchNormalization)                                                                                \n",
            "                                                                                                  \n",
            " activation_32 (Activation)  (None, 4, 4, 256)            0         ['batch_normalization_35[0][0]\n",
            "                                                                    ']                            \n",
            "                                                                                                  \n",
            " conv2d_36 (Conv2D)          (None, 4, 4, 1024)           263168    ['activation_32[0][0]']       \n",
            "                                                                                                  \n",
            " batch_normalization_36 (Ba  (None, 4, 4, 1024)           4096      ['conv2d_36[0][0]']           \n",
            " tchNormalization)                                                                                \n",
            "                                                                                                  \n",
            " add_10 (Add)                (None, 4, 4, 1024)           0         ['activation_30[0][0]',       \n",
            "                                                                     'batch_normalization_36[0][0]\n",
            "                                                                    ']                            \n",
            "                                                                                                  \n",
            " activation_33 (Activation)  (None, 4, 4, 1024)           0         ['add_10[0][0]']              \n",
            "                                                                                                  \n",
            " conv2d_37 (Conv2D)          (None, 4, 4, 256)            262400    ['activation_33[0][0]']       \n",
            "                                                                                                  \n",
            " batch_normalization_37 (Ba  (None, 4, 4, 256)            1024      ['conv2d_37[0][0]']           \n",
            " tchNormalization)                                                                                \n",
            "                                                                                                  \n",
            " activation_34 (Activation)  (None, 4, 4, 256)            0         ['batch_normalization_37[0][0]\n",
            "                                                                    ']                            \n",
            "                                                                                                  \n",
            " conv2d_38 (Conv2D)          (None, 4, 4, 256)            590080    ['activation_34[0][0]']       \n",
            "                                                                                                  \n",
            " batch_normalization_38 (Ba  (None, 4, 4, 256)            1024      ['conv2d_38[0][0]']           \n",
            " tchNormalization)                                                                                \n",
            "                                                                                                  \n",
            " activation_35 (Activation)  (None, 4, 4, 256)            0         ['batch_normalization_38[0][0]\n",
            "                                                                    ']                            \n",
            "                                                                                                  \n",
            " conv2d_39 (Conv2D)          (None, 4, 4, 1024)           263168    ['activation_35[0][0]']       \n",
            "                                                                                                  \n",
            " batch_normalization_39 (Ba  (None, 4, 4, 1024)           4096      ['conv2d_39[0][0]']           \n",
            " tchNormalization)                                                                                \n",
            "                                                                                                  \n",
            " add_11 (Add)                (None, 4, 4, 1024)           0         ['activation_33[0][0]',       \n",
            "                                                                     'batch_normalization_39[0][0]\n",
            "                                                                    ']                            \n",
            "                                                                                                  \n",
            " activation_36 (Activation)  (None, 4, 4, 1024)           0         ['add_11[0][0]']              \n",
            "                                                                                                  \n",
            " conv2d_40 (Conv2D)          (None, 4, 4, 256)            262400    ['activation_36[0][0]']       \n",
            "                                                                                                  \n",
            " batch_normalization_40 (Ba  (None, 4, 4, 256)            1024      ['conv2d_40[0][0]']           \n",
            " tchNormalization)                                                                                \n",
            "                                                                                                  \n",
            " activation_37 (Activation)  (None, 4, 4, 256)            0         ['batch_normalization_40[0][0]\n",
            "                                                                    ']                            \n",
            "                                                                                                  \n",
            " conv2d_41 (Conv2D)          (None, 4, 4, 256)            590080    ['activation_37[0][0]']       \n",
            "                                                                                                  \n",
            " batch_normalization_41 (Ba  (None, 4, 4, 256)            1024      ['conv2d_41[0][0]']           \n",
            " tchNormalization)                                                                                \n",
            "                                                                                                  \n",
            " activation_38 (Activation)  (None, 4, 4, 256)            0         ['batch_normalization_41[0][0]\n",
            "                                                                    ']                            \n",
            "                                                                                                  \n",
            " conv2d_42 (Conv2D)          (None, 4, 4, 1024)           263168    ['activation_38[0][0]']       \n",
            "                                                                                                  \n",
            " batch_normalization_42 (Ba  (None, 4, 4, 1024)           4096      ['conv2d_42[0][0]']           \n",
            " tchNormalization)                                                                                \n",
            "                                                                                                  \n",
            " add_12 (Add)                (None, 4, 4, 1024)           0         ['activation_36[0][0]',       \n",
            "                                                                     'batch_normalization_42[0][0]\n",
            "                                                                    ']                            \n",
            "                                                                                                  \n",
            " activation_39 (Activation)  (None, 4, 4, 1024)           0         ['add_12[0][0]']              \n",
            "                                                                                                  \n",
            " conv2d_43 (Conv2D)          (None, 2, 2, 512)            524800    ['activation_39[0][0]']       \n",
            "                                                                                                  \n",
            " batch_normalization_43 (Ba  (None, 2, 2, 512)            2048      ['conv2d_43[0][0]']           \n",
            " tchNormalization)                                                                                \n",
            "                                                                                                  \n",
            " activation_40 (Activation)  (None, 2, 2, 512)            0         ['batch_normalization_43[0][0]\n",
            "                                                                    ']                            \n",
            "                                                                                                  \n",
            " conv2d_44 (Conv2D)          (None, 2, 2, 512)            2359808   ['activation_40[0][0]']       \n",
            "                                                                                                  \n",
            " batch_normalization_44 (Ba  (None, 2, 2, 512)            2048      ['conv2d_44[0][0]']           \n",
            " tchNormalization)                                                                                \n",
            "                                                                                                  \n",
            " activation_41 (Activation)  (None, 2, 2, 512)            0         ['batch_normalization_44[0][0]\n",
            "                                                                    ']                            \n",
            "                                                                                                  \n",
            " conv2d_46 (Conv2D)          (None, 2, 2, 2048)           2099200   ['activation_39[0][0]']       \n",
            "                                                                                                  \n",
            " conv2d_45 (Conv2D)          (None, 2, 2, 2048)           1050624   ['activation_41[0][0]']       \n",
            "                                                                                                  \n",
            " batch_normalization_46 (Ba  (None, 2, 2, 2048)           8192      ['conv2d_46[0][0]']           \n",
            " tchNormalization)                                                                                \n",
            "                                                                                                  \n",
            " batch_normalization_45 (Ba  (None, 2, 2, 2048)           8192      ['conv2d_45[0][0]']           \n",
            " tchNormalization)                                                                                \n",
            "                                                                                                  \n",
            " add_13 (Add)                (None, 2, 2, 2048)           0         ['batch_normalization_46[0][0]\n",
            "                                                                    ',                            \n",
            "                                                                     'batch_normalization_45[0][0]\n",
            "                                                                    ']                            \n",
            "                                                                                                  \n",
            " activation_42 (Activation)  (None, 2, 2, 2048)           0         ['add_13[0][0]']              \n",
            "                                                                                                  \n",
            " conv2d_47 (Conv2D)          (None, 2, 2, 512)            1049088   ['activation_42[0][0]']       \n",
            "                                                                                                  \n",
            " batch_normalization_47 (Ba  (None, 2, 2, 512)            2048      ['conv2d_47[0][0]']           \n",
            " tchNormalization)                                                                                \n",
            "                                                                                                  \n",
            " activation_43 (Activation)  (None, 2, 2, 512)            0         ['batch_normalization_47[0][0]\n",
            "                                                                    ']                            \n",
            "                                                                                                  \n",
            " conv2d_48 (Conv2D)          (None, 2, 2, 512)            2359808   ['activation_43[0][0]']       \n",
            "                                                                                                  \n",
            " batch_normalization_48 (Ba  (None, 2, 2, 512)            2048      ['conv2d_48[0][0]']           \n",
            " tchNormalization)                                                                                \n",
            "                                                                                                  \n",
            " activation_44 (Activation)  (None, 2, 2, 512)            0         ['batch_normalization_48[0][0]\n",
            "                                                                    ']                            \n",
            "                                                                                                  \n",
            " conv2d_49 (Conv2D)          (None, 2, 2, 2048)           1050624   ['activation_44[0][0]']       \n",
            "                                                                                                  \n",
            " batch_normalization_49 (Ba  (None, 2, 2, 2048)           8192      ['conv2d_49[0][0]']           \n",
            " tchNormalization)                                                                                \n",
            "                                                                                                  \n",
            " add_14 (Add)                (None, 2, 2, 2048)           0         ['activation_42[0][0]',       \n",
            "                                                                     'batch_normalization_49[0][0]\n",
            "                                                                    ']                            \n",
            "                                                                                                  \n",
            " activation_45 (Activation)  (None, 2, 2, 2048)           0         ['add_14[0][0]']              \n",
            "                                                                                                  \n",
            " conv2d_50 (Conv2D)          (None, 2, 2, 512)            1049088   ['activation_45[0][0]']       \n",
            "                                                                                                  \n",
            " batch_normalization_50 (Ba  (None, 2, 2, 512)            2048      ['conv2d_50[0][0]']           \n",
            " tchNormalization)                                                                                \n",
            "                                                                                                  \n",
            " activation_46 (Activation)  (None, 2, 2, 512)            0         ['batch_normalization_50[0][0]\n",
            "                                                                    ']                            \n",
            "                                                                                                  \n",
            " conv2d_51 (Conv2D)          (None, 2, 2, 512)            2359808   ['activation_46[0][0]']       \n",
            "                                                                                                  \n",
            " batch_normalization_51 (Ba  (None, 2, 2, 512)            2048      ['conv2d_51[0][0]']           \n",
            " tchNormalization)                                                                                \n",
            "                                                                                                  \n",
            " activation_47 (Activation)  (None, 2, 2, 512)            0         ['batch_normalization_51[0][0]\n",
            "                                                                    ']                            \n",
            "                                                                                                  \n",
            " conv2d_52 (Conv2D)          (None, 2, 2, 2048)           1050624   ['activation_47[0][0]']       \n",
            "                                                                                                  \n",
            " batch_normalization_52 (Ba  (None, 2, 2, 2048)           8192      ['conv2d_52[0][0]']           \n",
            " tchNormalization)                                                                                \n",
            "                                                                                                  \n",
            " add_15 (Add)                (None, 2, 2, 2048)           0         ['activation_45[0][0]',       \n",
            "                                                                     'batch_normalization_52[0][0]\n",
            "                                                                    ']                            \n",
            "                                                                                                  \n",
            " activation_48 (Activation)  (None, 2, 2, 2048)           0         ['add_15[0][0]']              \n",
            "                                                                                                  \n",
            " average_pooling2d (Average  (None, 1, 1, 2048)           0         ['activation_48[0][0]']       \n",
            " Pooling2D)                                                                                       \n",
            "                                                                                                  \n",
            " flatten (Flatten)           (None, 2048)                 0         ['average_pooling2d[0][0]']   \n",
            "                                                                                                  \n",
            " dense (Dense)               (None, 6)                    12294     ['flatten[0][0]']             \n",
            "                                                                                                  \n",
            "==================================================================================================\n",
            "Total params: 23600006 (90.03 MB)\n",
            "Trainable params: 23546886 (89.82 MB)\n",
            "Non-trainable params: 53120 (207.50 KB)\n",
            "__________________________________________________________________________________________________\n"
          ]
        }
      ]
    },
    {
      "cell_type": "code",
      "source": [
        "model.compile(optimizer = 'adam', loss = 'categorical_crossentropy', metrics = ['accuracy'])"
      ],
      "metadata": {
        "id": "ycHFGxWbFpfj"
      },
      "execution_count": null,
      "outputs": []
    },
    {
      "cell_type": "code",
      "source": [
        "def load_dataset(train_file, test_file):\n",
        "  train_dataset = h5py.File(train_file, 'r')\n",
        "  train_set_x_orig = np.array(train_dataset['train_set_x'])\n",
        "  train_set_y_orig = np.array(train_dataset['train_set_y'])\n",
        "\n",
        "  test_dataset = h5py.File(test_file, 'r')\n",
        "  test_set_x_orig = np.array(test_dataset['test_set_x'])\n",
        "  test_set_y_orig = np.array(test_dataset['test_set_y'])\n",
        "\n",
        "  classes = np.array(test_dataset['list_classes'])\n",
        "\n",
        "  train_set_y_orig = train_set_y_orig.reshape((1, train_set_y_orig.shape[0]))\n",
        "  test_set_y_orig = test_set_y_orig.reshape((1, test_set_y_orig.shape[0]))\n",
        "\n",
        "  return train_set_x_orig, train_set_y_orig, test_set_x_orig, test_set_y_orig, classes"
      ],
      "metadata": {
        "id": "xDrgi88pG5D6"
      },
      "execution_count": null,
      "outputs": []
    },
    {
      "cell_type": "code",
      "source": [
        "X_train_orig, y_train_orig, X_test_orig, y_test_orig, classes = load_dataset(\"train_signs.h5\", \"test_signs.h5\")\n",
        "\n",
        "X_train = X_train_orig/255\n",
        "X_test = X_test_orig/255\n",
        "from sklearn.preprocessing import OneHotEncoder\n",
        "y_train = OneHotEncoder(categories = 'auto', sparse_output = False).fit_transform(y_train_orig.reshape(-1, 1))\n",
        "y_test = OneHotEncoder(categories = 'auto', sparse_output = False).fit_transform(y_test_orig.reshape(-1, 1))\n",
        "\n",
        "print (\"number of training examples = \" + str(X_train.shape[0]))\n",
        "print (\"number of test examples = \" + str(X_test.shape[0]))\n",
        "print (\"X_train shape: \" + str(X_train.shape))\n",
        "print (\"Y_train shape: \" + str(y_train.shape))\n",
        "print (\"X_test shape: \" + str(X_test.shape))\n",
        "print (\"Y_test shape: \" + str(y_test.shape))"
      ],
      "metadata": {
        "colab": {
          "base_uri": "https://localhost:8080/"
        },
        "id": "8dNENzYUJYhG",
        "outputId": "575f2b0f-e73c-4b38-8170-801f55eda4db"
      },
      "execution_count": null,
      "outputs": [
        {
          "output_type": "stream",
          "name": "stdout",
          "text": [
            "[[5 0 2 ... 2 4 5]]\n",
            "number of training examples = 1080\n",
            "number of test examples = 120\n",
            "X_train shape: (1080, 64, 64, 3)\n",
            "Y_train shape: (1080, 6)\n",
            "X_test shape: (120, 64, 64, 3)\n",
            "Y_test shape: (120, 6)\n"
          ]
        }
      ]
    },
    {
      "cell_type": "code",
      "source": [
        "plt.imshow(X_train_orig[321])\n",
        "plt.title(y_train_orig[0][321])\n",
        "plt.plot()"
      ],
      "metadata": {
        "colab": {
          "base_uri": "https://localhost:8080/",
          "height": 470
        },
        "id": "n-pm3kIsO-6l",
        "outputId": "f27241fd-c1d3-45c5-857a-e6dac7cf7bcc"
      },
      "execution_count": null,
      "outputs": [
        {
          "output_type": "execute_result",
          "data": {
            "text/plain": [
              "[]"
            ]
          },
          "metadata": {},
          "execution_count": 24
        },
        {
          "output_type": "display_data",
          "data": {
            "text/plain": [
              "<Figure size 640x480 with 1 Axes>"
            ],
            "image/png": "[encoded data removed]"
          },
          "metadata": {}
        }
      ]
    },
    {
      "cell_type": "code",
      "source": [
        "model.fit(X_train, y_train, epochs = 10, batch_size = 32)"
      ],
      "metadata": {
        "colab": {
          "base_uri": "https://localhost:8080/"
        },
        "id": "oidAdg4YMgpB",
        "outputId": "7e6188e3-aa2b-4378-8e3a-f5e11468d44e"
      },
      "execution_count": null,
      "outputs": [
        {
          "output_type": "stream",
          "name": "stdout",
          "text": [
            "Epoch 1/10\n",
            "34/34 [==============================] - 59s 114ms/step - loss: 2.6800 - accuracy: 0.3880\n",
            "Epoch 2/10\n",
            "34/34 [==============================] - 2s 55ms/step - loss: 0.8813 - accuracy: 0.6602\n",
            "Epoch 3/10\n",
            "34/34 [==============================] - 2s 55ms/step - loss: 0.4787 - accuracy: 0.8241\n",
            "Epoch 4/10\n",
            "34/34 [==============================] - 2s 55ms/step - loss: 0.4145 - accuracy: 0.8500\n",
            "Epoch 5/10\n",
            "34/34 [==============================] - 2s 67ms/step - loss: 0.3515 - accuracy: 0.8694\n",
            "Epoch 6/10\n",
            "34/34 [==============================] - 2s 60ms/step - loss: 0.1958 - accuracy: 0.9315\n",
            "Epoch 7/10\n",
            "34/34 [==============================] - 2s 55ms/step - loss: 0.1291 - accuracy: 0.9593\n",
            "Epoch 8/10\n",
            "34/34 [==============================] - 2s 55ms/step - loss: 0.1320 - accuracy: 0.9565\n",
            "Epoch 9/10\n",
            "34/34 [==============================] - 2s 56ms/step - loss: 0.1185 - accuracy: 0.9602\n",
            "Epoch 10/10\n",
            "34/34 [==============================] - 2s 56ms/step - loss: 0.1978 - accuracy: 0.9370\n"
          ]
        },
        {
          "output_type": "execute_result",
          "data": {
            "text/plain": [
              "<keras.src.callbacks.History at 0x7c6e386f7a60>"
            ]
          },
          "metadata": {},
          "execution_count": 10
        }
      ]
    },
    {
      "cell_type": "code",
      "source": [
        "preds = model.evaluate(X_test, y_test)\n",
        "print(f\"Loss = {str(preds[0])}\\nTest Accuracy = {str(preds[1])}\")"
      ],
      "metadata": {
        "colab": {
          "base_uri": "https://localhost:8080/"
        },
        "id": "1wfLVPj9N6HT",
        "outputId": "5e6102aa-4080-4994-f9b7-52e3ac277f82"
      },
      "execution_count": null,
      "outputs": [
        {
          "output_type": "stream",
          "name": "stdout",
          "text": [
            "4/4 [==============================] - 2s 32ms/step - loss: 0.2411 - accuracy: 0.9083\n",
            "Loss = 0.24112768471240997\n",
            "Test Accuracy = 0.9083333611488342\n"
          ]
        }
      ]
    },
    {
      "cell_type": "code",
      "source": [
        "from keras.preprocessing import image\n",
        "\n",
        "img = image.load_img('sample2.jpg', target_size = (64, 64))\n",
        "x = image.img_to_array(img)\n",
        "x = np.expand_dims(x, axis = 0)\n",
        "x = x/255.0\n",
        "print(\"Input Image shape: \", x.shape)\n",
        "plt.imshow(img)\n",
        "plt.plot()"
      ],
      "metadata": {
        "colab": {
          "base_uri": "https://localhost:8080/",
          "height": 468
        },
        "id": "Ra_xRF_JVZw3",
        "outputId": "c133a46a-766c-443d-a191-3c2ed7627f9d"
      },
      "execution_count": null,
      "outputs": [
        {
          "output_type": "stream",
          "name": "stdout",
          "text": [
            "Input Image shape:  (1, 64, 64, 3)\n"
          ]
        },
        {
          "output_type": "execute_result",
          "data": {
            "text/plain": [
              "[]"
            ]
          },
          "metadata": {},
          "execution_count": 35
        },
        {
          "output_type": "display_data",
          "data": {
            "text/plain": [
              "<Figure size 640x480 with 1 Axes>"
            ],
            "image/png": "[encoded data removed]"
          },
          "metadata": {}
        }
      ]
    },
    {
      "cell_type": "code",
      "source": [
        "pred = model.predict(x)\n",
        "print(\"Class prediction vector [p(0), p(1), p(2), p(3), p(4), p(5)] = \", pred)\n",
        "print(\"Predicted Class: \", np.argmax(pred))"
      ],
      "metadata": {
        "colab": {
          "base_uri": "https://localhost:8080/"
        },
        "id": "CIivv3CuW2-s",
        "outputId": "acda9bae-2044-44c8-9a05-305f71fd0a46"
      },
      "execution_count": null,
      "outputs": [
        {
          "output_type": "stream",
          "name": "stdout",
          "text": [
            "1/1 [==============================] - 0s 33ms/step\n",
            "Class prediction vector [p(0), p(1), p(2), p(3), p(4), p(5)] =  [[2.6148204e-03 8.0659847e-06 1.0514468e-02 6.1792538e-02 8.5840243e-01\n",
            "  6.6667669e-02]]\n",
            "Predicted Class:  4\n"
          ]
        }
      ]
    },
    {
      "cell_type": "code",
      "source": [
        "import tensorflow as tf\n",
        "model = resnet50(input_shape = (64, 64, 3), classes = 6)\n",
        "model.compile(optimizer = 'adam', loss = 'categorical_crossentropy', metrics = ['accuracy'])\n",
        "train_dataset = tf.data.Dataset.from_tensor_slices((X_train, y_train)).batch(32)\n",
        "test_dataset = tf.data.Dataset.from_tensor_slices((X_test, y_test)).batch(32)\n",
        "history = model.fit(train_dataset, epochs = 25, validation_data = test_dataset)"
      ],
      "metadata": {
        "colab": {
          "base_uri": "https://localhost:8080/"
        },
        "id": "BzHESs_HYKN2",
        "outputId": "b2078db8-3072-4f96-e49f-40fea2732f86"
      },
      "execution_count": null,
      "outputs": [
        {
          "output_type": "stream",
          "name": "stdout",
          "text": [
            "Epoch 1/25\n",
            "34/34 [==============================] - 41s 137ms/step - loss: 3.1329 - accuracy: 0.3259 - val_loss: 1.5276 - val_accuracy: 0.3250\n",
            "Epoch 2/25\n",
            "34/34 [==============================] - 2s 61ms/step - loss: 1.1944 - accuracy: 0.5352 - val_loss: 1.8538 - val_accuracy: 0.3667\n",
            "Epoch 3/25\n",
            "34/34 [==============================] - 2s 59ms/step - loss: 0.9302 - accuracy: 0.6741 - val_loss: 1.2599 - val_accuracy: 0.5500\n",
            "Epoch 4/25\n",
            "34/34 [==============================] - 2s 59ms/step - loss: 0.8234 - accuracy: 0.7250 - val_loss: 1.0657 - val_accuracy: 0.6000\n",
            "Epoch 5/25\n",
            "34/34 [==============================] - 2s 59ms/step - loss: 0.5324 - accuracy: 0.8194 - val_loss: 0.9378 - val_accuracy: 0.6667\n",
            "Epoch 6/25\n",
            "34/34 [==============================] - 2s 69ms/step - loss: 0.2994 - accuracy: 0.8898 - val_loss: 0.9561 - val_accuracy: 0.7750\n",
            "Epoch 7/25\n",
            "34/34 [==============================] - 2s 64ms/step - loss: 0.3124 - accuracy: 0.9009 - val_loss: 0.5672 - val_accuracy: 0.7750\n",
            "Epoch 8/25\n",
            "34/34 [==============================] - 2s 59ms/step - loss: 0.2484 - accuracy: 0.9148 - val_loss: 0.7416 - val_accuracy: 0.8083\n",
            "Epoch 9/25\n",
            "34/34 [==============================] - 2s 59ms/step - loss: 0.1880 - accuracy: 0.9389 - val_loss: 0.5159 - val_accuracy: 0.8583\n",
            "Epoch 10/25\n",
            "34/34 [==============================] - 2s 59ms/step - loss: 0.1709 - accuracy: 0.9370 - val_loss: 0.3845 - val_accuracy: 0.8917\n",
            "Epoch 11/25\n",
            "34/34 [==============================] - 2s 59ms/step - loss: 0.1554 - accuracy: 0.9417 - val_loss: 0.6058 - val_accuracy: 0.8750\n",
            "Epoch 12/25\n",
            "34/34 [==============================] - 2s 74ms/step - loss: 0.1227 - accuracy: 0.9611 - val_loss: 0.4406 - val_accuracy: 0.8750\n",
            "Epoch 13/25\n",
            "34/34 [==============================] - 2s 60ms/step - loss: 0.1359 - accuracy: 0.9481 - val_loss: 0.3586 - val_accuracy: 0.9000\n",
            "Epoch 14/25\n",
            "34/34 [==============================] - 2s 59ms/step - loss: 0.0807 - accuracy: 0.9741 - val_loss: 0.3803 - val_accuracy: 0.8917\n",
            "Epoch 15/25\n",
            "34/34 [==============================] - 2s 59ms/step - loss: 0.0698 - accuracy: 0.9769 - val_loss: 0.3416 - val_accuracy: 0.9167\n",
            "Epoch 16/25\n",
            "34/34 [==============================] - 2s 59ms/step - loss: 0.0587 - accuracy: 0.9778 - val_loss: 0.5799 - val_accuracy: 0.8750\n",
            "Epoch 17/25\n",
            "34/34 [==============================] - 2s 59ms/step - loss: 0.0346 - accuracy: 0.9870 - val_loss: 0.3293 - val_accuracy: 0.9167\n",
            "Epoch 18/25\n",
            "34/34 [==============================] - 3s 77ms/step - loss: 0.0247 - accuracy: 0.9926 - val_loss: 0.3430 - val_accuracy: 0.9167\n",
            "Epoch 19/25\n",
            "34/34 [==============================] - 2s 62ms/step - loss: 0.1170 - accuracy: 0.9630 - val_loss: 0.7789 - val_accuracy: 0.8417\n",
            "Epoch 20/25\n",
            "34/34 [==============================] - 2s 59ms/step - loss: 0.2688 - accuracy: 0.9139 - val_loss: 0.5265 - val_accuracy: 0.8500\n",
            "Epoch 21/25\n",
            "34/34 [==============================] - 2s 59ms/step - loss: 0.0661 - accuracy: 0.9796 - val_loss: 0.2199 - val_accuracy: 0.9250\n",
            "Epoch 22/25\n",
            "34/34 [==============================] - 2s 67ms/step - loss: 0.0396 - accuracy: 0.9898 - val_loss: 0.2991 - val_accuracy: 0.9167\n",
            "Epoch 23/25\n",
            "34/34 [==============================] - 2s 65ms/step - loss: 0.0201 - accuracy: 0.9954 - val_loss: 0.1939 - val_accuracy: 0.9583\n",
            "Epoch 24/25\n",
            "34/34 [==============================] - 2s 59ms/step - loss: 0.0200 - accuracy: 0.9954 - val_loss: 0.3592 - val_accuracy: 0.9333\n",
            "Epoch 25/25\n",
            "34/34 [==============================] - 2s 59ms/step - loss: 0.0250 - accuracy: 0.9963 - val_loss: 0.2131 - val_accuracy: 0.9500\n"
          ]
        }
      ]
    },
    {
      "cell_type": "code",
      "source": [
        "preds = model.evaluate(X_test, y_test)\n",
        "print(f\"Loss = {str(preds[0])}\\nTest Accuracy = {str(preds[1])}\")\n",
        "\n",
        "pred = model.predict(x)\n",
        "print(\"Class prediction vector [p(0), p(1), p(2), p(3), p(4), p(5)] = \", pred)\n",
        "print(\"Predicted Class: \", np.argmax(pred))"
      ],
      "metadata": {
        "colab": {
          "base_uri": "https://localhost:8080/"
        },
        "id": "h26x3w4ejm6i",
        "outputId": "d37fdf80-184c-4a53-85cc-8f0ca4628453"
      },
      "execution_count": null,
      "outputs": [
        {
          "output_type": "stream",
          "name": "stdout",
          "text": [
            "4/4 [==============================] - 1s 29ms/step - loss: 0.2131 - accuracy: 0.9500\n",
            "Loss = 0.21314381062984467\n",
            "Test Accuracy = 0.949999988079071\n",
            "1/1 [==============================] - 0s 31ms/step\n",
            "Class prediction vector [p(0), p(1), p(2), p(3), p(4), p(5)] =  [[2.6148204e-03 8.0659847e-06 1.0514468e-02 6.1792538e-02 8.5840243e-01\n",
            "  6.6667669e-02]]\n",
            "Predicted Class:  4\n"
          ]
        }
      ]
    },
    {
      "cell_type": "code",
      "source": [
        "ds = pd.DataFrame(history.history)\n",
        "ds_loss = ds[['loss', 'val_loss']].copy()\n",
        "ds_loss.rename(columns = {'loss':'Train', 'val_loss':'Test'}, inplace = True)\n",
        "ds_loss.plot(title = \"Model Loss\", figsize = (6, 4)).set(xlabel = \"Epochs\", ylabel = \"Loss\")\n",
        "\n",
        "ds_acc = ds[['accuracy', 'val_accuracy']].copy()\n",
        "ds_acc.rename(columns = {'acc':'Train', 'val_accuracy':'Test'}, inplace = True)\n",
        "ds_acc.plot(title = \"Model Accuracy\", figsize = (6, 4)).set(xlabel = \"Epochs\", ylabel = \"Accuracy\")"
      ],
      "metadata": {
        "colab": {
          "base_uri": "https://localhost:8080/",
          "height": 821
        },
        "id": "uPjV0m2FOy-x",
        "outputId": "defd66d0-c237-493e-f3ff-023a952c0bbe"
      },
      "execution_count": null,
      "outputs": [
        {
          "output_type": "execute_result",
          "data": {
            "text/plain": [
              "[Text(0.5, 0, 'Epochs'), Text(0, 0.5, 'Accuracy')]"
            ]
          },
          "metadata": {},
          "execution_count": 33
        },
        {
          "output_type": "display_data",
          "data": {
            "text/plain": [
              "<Figure size 600x400 with 1 Axes>"
            ],
            "image/png": "[encoded data removed]"
          },
          "metadata": {}
        },
        {
          "output_type": "display_data",
          "data": {
            "text/plain": [
              "<Figure size 600x400 with 1 Axes>"
            ],
            "image/png": "[encoded data removed]"
          },
          "metadata": {}
        }
      ]
    },
    {
      "cell_type": "code",
      "source": [
        "model.save('finger_digits.h5')"
      ],
      "metadata": {
        "colab": {
          "base_uri": "https://localhost:8080/"
        },
        "id": "3rek9L51ldid",
        "outputId": "045a3129-bb14-491e-857d-9d5a1fa7546e"
      },
      "execution_count": null,
      "outputs": [
        {
          "output_type": "stream",
          "name": "stderr",
          "text": [
            "/usr/local/lib/python3.10/dist-packages/keras/src/engine/training.py:3103: UserWarning: You are saving your model as an HDF5 file via `model.save()`. This file format is considered legacy. We recommend using instead the native Keras format, e.g. `model.save('my_model.keras')`.\n",
            "  saving_api.save_model(\n"
          ]
        }
      ]
    },
    {
      "cell_type": "code",
      "source": [
        "model.save('finger_digits.keras')"
      ],
      "metadata": {
        "id": "5TietkGVoP3C"
      },
      "execution_count": null,
      "outputs": []
    },
    {
      "cell_type": "code",
      "source": [],
      "metadata": {
        "id": "LJ4BjSWeorom"
      },
      "execution_count": null,
      "outputs": []
    }
  ]
}