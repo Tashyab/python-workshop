{
 "cells": [
  {
   "cell_type": "code",
   "execution_count": 1,
   "id": "8b8b7bfd-7c2c-4ab7-a6c2-a9d0d3b6feeb",
   "metadata": {},
   "outputs": [
    {
     "data": {
      "text/plain": [
       "DatetimeIndex(['2017-10-09 14:30:00', '2017-10-09 14:30:00',\n",
       "               '2017-10-09 00:00:00', '2017-10-09 00:00:00',\n",
       "               '2017-10-09 00:00:00',                 'NaT',\n",
       "                               'NaT',                 'NaT'],\n",
       "              dtype='datetime64[ns]', freq=None)"
      ]
     },
     "execution_count": 1,
     "metadata": {},
     "output_type": "execute_result"
    }
   ],
   "source": [
    "import pandas as pd\n",
    "dates = ['2017-10-9 2:30:00 PM', 'Oct 09, 2017 14:30:00', '10/09/2017', '2017.10.09', '20171009', \n",
    "         'dd-mm-yy', 'some date', 'error']\n",
    "pd.to_datetime(dates, errors = 'coerce') # use errors = 'ignore' to ignore error"
   ]
  },
  {
   "cell_type": "code",
   "execution_count": 2,
   "id": "aa0e957b-28d4-40c3-8a2d-222bb9aaff1b",
   "metadata": {},
   "outputs": [
    {
     "data": {
      "text/plain": [
       "Timestamp('2017-10-09 00:00:00')"
      ]
     },
     "execution_count": 2,
     "metadata": {},
     "output_type": "execute_result"
    }
   ],
   "source": [
    "pd.to_datetime('9-10-2017', dayfirst = True) #Handling dd/mm/yyyy"
   ]
  },
  {
   "cell_type": "code",
   "execution_count": 3,
   "id": "f033cc44-07ff-4c55-85c4-689f129ea413",
   "metadata": {},
   "outputs": [
    {
     "data": {
      "text/plain": [
       "Timestamp('2017-10-09 00:00:00')"
      ]
     },
     "execution_count": 3,
     "metadata": {},
     "output_type": "execute_result"
    }
   ],
   "source": [
    "pd.to_datetime('9$10$2017', format=\"%d$%m$%Y\")"
   ]
  },
  {
   "cell_type": "code",
   "execution_count": 4,
   "id": "94b1f6ec-f3a8-4a9c-b703-3eac13ce5aee",
   "metadata": {},
   "outputs": [
    {
     "data": {
      "text/plain": [
       "DatetimeIndex(['2022-08-25 22:52:08'], dtype='datetime64[ns]', freq=None)"
      ]
     },
     "execution_count": 4,
     "metadata": {},
     "output_type": "execute_result"
    }
   ],
   "source": [
    "t = 1661467928\n",
    "dt = pd.to_datetime([t], unit = 's')\n",
    "dt"
   ]
  },
  {
   "cell_type": "code",
   "execution_count": 5,
   "id": "4a5aed6b-5854-46b7-b98f-0c1fa0b99a4c",
   "metadata": {},
   "outputs": [
    {
     "data": {
      "text/plain": [
       "array([1661467928000000000], dtype=int64)"
      ]
     },
     "execution_count": 5,
     "metadata": {},
     "output_type": "execute_result"
    }
   ],
   "source": [
    "dt.view('int64')"
   ]
  },
  {
   "cell_type": "code",
   "execution_count": null,
   "id": "70d64887-91b6-47f6-b1be-f3b223301717",
   "metadata": {},
   "outputs": [],
   "source": []
  }
 ],
 "metadata": {
  "kernelspec": {
   "display_name": "Python 3 (ipykernel)",
   "language": "python",
   "name": "python3"
  },
  "language_info": {
   "codemirror_mode": {
    "name": "ipython",
    "version": 3
   },
   "file_extension": ".py",
   "mimetype": "text/x-python",
   "name": "python",
   "nbconvert_exporter": "python",
   "pygments_lexer": "ipython3",
   "version": "3.10.0"
  }
 },
 "nbformat": 4,
 "nbformat_minor": 5
}
